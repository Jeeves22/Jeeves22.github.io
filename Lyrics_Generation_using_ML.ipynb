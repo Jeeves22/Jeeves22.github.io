{
  "nbformat": 4,
  "nbformat_minor": 0,
  "metadata": {
    "colab": {
      "name": "Lyrics Generation using ML",
      "provenance": [],
      "collapsed_sections": [],
      "authorship_tag": "ABX9TyOwDAU8nWBoF94+9zaks6ZN",
      "include_colab_link": true
    },
    "kernelspec": {
      "name": "python3",
      "display_name": "Python 3"
    }
  },
  "cells": [
    {
      "cell_type": "markdown",
      "metadata": {
        "id": "view-in-github",
        "colab_type": "text"
      },
      "source": [
        "<a href=\"https://colab.research.google.com/github/Jeeves22/Jeeves22.github.io/blob/master/Lyrics_Generation_using_ML.ipynb\" target=\"_parent\"><img src=\"https://colab.research.google.com/assets/colab-badge.svg\" alt=\"Open In Colab\"/></a>"
      ]
    },
    {
      "cell_type": "code",
      "metadata": {
        "id": "ikCfohhVfNkI",
        "colab_type": "code",
        "colab": {}
      },
      "source": [
        "# cb.lk/speech\n",
        "import requests"
      ],
      "execution_count": 8,
      "outputs": []
    },
    {
      "cell_type": "code",
      "metadata": {
        "id": "6KEo4dlzf6db",
        "colab_type": "code",
        "colab": {}
      },
      "source": [
        "res = requests.get(\"https://raw.githubusercontent.com/coding-blocks-archives/ML-Noida-2019-June-Two/master/datasets/speeches/speech.txt\")"
      ],
      "execution_count": 9,
      "outputs": []
    },
    {
      "cell_type": "code",
      "metadata": {
        "id": "EekH9IpWgJWe",
        "colab_type": "code",
        "colab": {
          "base_uri": "https://localhost:8080/",
          "height": 35
        },
        "outputId": "720245b0-e44b-40ab-babd-1d1413db8026"
      },
      "source": [
        "res"
      ],
      "execution_count": 10,
      "outputs": [
        {
          "output_type": "execute_result",
          "data": {
            "text/plain": [
              "<Response [200]>"
            ]
          },
          "metadata": {
            "tags": []
          },
          "execution_count": 10
        }
      ]
    },
    {
      "cell_type": "code",
      "metadata": {
        "id": "jFeFVSDHgQz1",
        "colab_type": "code",
        "colab": {}
      },
      "source": [
        "data = res.text"
      ],
      "execution_count": 11,
      "outputs": []
    },
    {
      "cell_type": "code",
      "metadata": {
        "id": "rj_gpKNwgSYh",
        "colab_type": "code",
        "colab": {
          "base_uri": "https://localhost:8080/",
          "height": 183
        },
        "outputId": "d815506c-9538-48f5-994a-bee137f187f3"
      },
      "source": [
        "print(data[:1000])"
      ],
      "execution_count": 12,
      "outputs": [
        {
          "output_type": "stream",
          "text": [
            "26 8 2016, India\n",
            "Niti Aayog\n",
            "There was a time when development was believed to depend on the quantity of capital and labour. Today we know that it depends as much on the quality of institutions and ideas. Early last year, a new institution was created, namely, the National Institution for Transforming India or NITI. NITI was created as an evidence based think tank to guide India’s transformation.\n",
            "One of NITI’s functions is:\n",
            "- to mainstream external ideas into Government policies, through collaboration with national and international experts;\n",
            "- to be the Government’s link to the outside world, outside experts and practitioners;\n",
            "- to be the instrument through which ideas from outside are incorporated into policy-making.\n",
            "The Government of India and the State Governments have a long administrative tradition. This tradition combines indigenous and external ideas from India’s past. This administrative tradition has served India well in many ways. Above all, it has preserved democracy and fede\n"
          ],
          "name": "stdout"
        }
      ]
    },
    {
      "cell_type": "code",
      "metadata": {
        "id": "9cL62_oXggv3",
        "colab_type": "code",
        "colab": {}
      },
      "source": [
        "# Markov Chains model : Uses probablity\n",
        "# A Markov chain is a stochastic model describing a sequence of possible events in which the probability of each event depends only on the state attained in the previous event."
      ],
      "execution_count": null,
      "outputs": []
    },
    {
      "cell_type": "code",
      "metadata": {
        "id": "yJzs70wninuv",
        "colab_type": "code",
        "colab": {
          "base_uri": "https://localhost:8080/",
          "height": 52
        },
        "outputId": "f3561aa3-49bb-44b8-b5ae-8e484e772fc4"
      },
      "source": [
        "\"\"\"\n",
        "# text = \"the man was .... they then ...the ...the ..\"\n",
        "# X = (input), y = output\n",
        "#(k=3) where k is the window size of the input\n",
        "x.    y.    freq\n",
        "the   -     3\n",
        "the   y     1\n",
        "the   n     1\n",
        "\"\"\""
      ],
      "execution_count": null,
      "outputs": [
        {
          "output_type": "execute_result",
          "data": {
            "application/vnd.google.colaboratory.intrinsic": {
              "type": "string"
            },
            "text/plain": [
              "'\\n# text = \"the man was .... they then ...the ...the ..\"\\n# X = (input), y = output\\n#(k=3) where k is the window size of the input\\nx.    y.    freq\\nthe   -     3\\nthe   y     1\\nthe   n     1\\n'"
            ]
          },
          "metadata": {
            "tags": []
          },
          "execution_count": 11
        }
      ]
    },
    {
      "cell_type": "code",
      "metadata": {
        "id": "GPuKHxOqkRSz",
        "colab_type": "code",
        "colab": {}
      },
      "source": [
        "def generatetable(data, k = 4):\n",
        "  T = {}\n",
        "\n",
        "  for i in range(len(data)-k):\n",
        "    X = data[i:i+k]\n",
        "    Y = data[i+k]\n",
        "\n",
        "    if T.get(X) is None:\n",
        "      T[X] = {}\n",
        "      T[X][Y] = 1\n",
        "    else:\n",
        "      if T[X].get(Y)  is None:\n",
        "        T[X][Y] = 1\n",
        "      else:\n",
        "        T[X][Y] +=1\n",
        "\n",
        "  return T     "
      ],
      "execution_count": 13,
      "outputs": []
    },
    {
      "cell_type": "code",
      "metadata": {
        "id": "-10ua3-pmyeW",
        "colab_type": "code",
        "colab": {}
      },
      "source": [
        "d = \"hello helli hello helly helli hello hello\""
      ],
      "execution_count": 14,
      "outputs": []
    },
    {
      "cell_type": "code",
      "metadata": {
        "id": "0iZYpDlTnO4t",
        "colab_type": "code",
        "colab": {
          "base_uri": "https://localhost:8080/",
          "height": 272
        },
        "outputId": "67979d97-2439-40d6-e4de-bb750eb1c6de"
      },
      "source": [
        "#unordered dic\n",
        "generatetable(d, k=4)"
      ],
      "execution_count": 15,
      "outputs": [
        {
          "output_type": "execute_result",
          "data": {
            "text/plain": [
              "{' hel': {'l': 6},\n",
              " 'elli': {' ': 2},\n",
              " 'ello': {' ': 3},\n",
              " 'elly': {' ': 1},\n",
              " 'hell': {'i': 2, 'o': 4, 'y': 1},\n",
              " 'i he': {'l': 2},\n",
              " 'li h': {'e': 2},\n",
              " 'lli ': {'h': 2},\n",
              " 'llo ': {'h': 3},\n",
              " 'lly ': {'h': 1},\n",
              " 'lo h': {'e': 3},\n",
              " 'ly h': {'e': 1},\n",
              " 'o he': {'l': 3},\n",
              " 'y he': {'l': 1}}"
            ]
          },
          "metadata": {
            "tags": []
          },
          "execution_count": 15
        }
      ]
    },
    {
      "cell_type": "code",
      "metadata": {
        "id": "CwDcdfPtnUnp",
        "colab_type": "code",
        "colab": {}
      },
      "source": [
        "#print(data)"
      ],
      "execution_count": null,
      "outputs": []
    },
    {
      "cell_type": "code",
      "metadata": {
        "id": "d_bomrLfoKrE",
        "colab_type": "code",
        "colab": {}
      },
      "source": [
        "T = generatetable(data.lower(), k = 4)"
      ],
      "execution_count": 16,
      "outputs": []
    },
    {
      "cell_type": "code",
      "metadata": {
        "id": "GSWIHwRko7KL",
        "colab_type": "code",
        "colab": {
          "base_uri": "https://localhost:8080/",
          "height": 35
        },
        "outputId": "bda52923-64d9-43e8-82dd-a6c694fb60b9"
      },
      "source": [
        "T['dear']"
      ],
      "execution_count": 17,
      "outputs": [
        {
          "output_type": "execute_result",
          "data": {
            "text/plain": [
              "{' ': 136, 'e': 1, 't': 1}"
            ]
          },
          "metadata": {
            "tags": []
          },
          "execution_count": 17
        }
      ]
    },
    {
      "cell_type": "code",
      "metadata": {
        "id": "AforXAclpKWK",
        "colab_type": "code",
        "colab": {
          "base_uri": "https://localhost:8080/",
          "height": 35
        },
        "outputId": "37ad8f28-133e-4196-9ef4-39426d885142"
      },
      "source": [
        "\"dear \""
      ],
      "execution_count": 18,
      "outputs": [
        {
          "output_type": "execute_result",
          "data": {
            "application/vnd.google.colaboratory.intrinsic": {
              "type": "string"
            },
            "text/plain": [
              "'dear '"
            ]
          },
          "metadata": {
            "tags": []
          },
          "execution_count": 18
        }
      ]
    },
    {
      "cell_type": "code",
      "metadata": {
        "id": "rfjAZIbopfnb",
        "colab_type": "code",
        "colab": {
          "base_uri": "https://localhost:8080/",
          "height": 35
        },
        "outputId": "582e9e06-5cc6-4967-e6c2-505ecdd84bab"
      },
      "source": [
        "sum(list(T['ear '].values()))"
      ],
      "execution_count": 19,
      "outputs": [
        {
          "output_type": "execute_result",
          "data": {
            "text/plain": [
              "462"
            ]
          },
          "metadata": {
            "tags": []
          },
          "execution_count": 19
        }
      ]
    },
    {
      "cell_type": "code",
      "metadata": {
        "id": "MLjhAac2rUVA",
        "colab_type": "code",
        "colab": {
          "base_uri": "https://localhost:8080/",
          "height": 508
        },
        "outputId": "485012e6-cc7e-4629-f2db-5037cd24e0d4"
      },
      "source": [
        "T['ear ']"
      ],
      "execution_count": 20,
      "outputs": [
        {
          "output_type": "execute_result",
          "data": {
            "text/plain": [
              "{' ': 1,\n",
              " '1': 4,\n",
              " '2': 12,\n",
              " 'a': 42,\n",
              " 'b': 44,\n",
              " 'c': 61,\n",
              " 'd': 9,\n",
              " 'e': 18,\n",
              " 'f': 58,\n",
              " 'g': 1,\n",
              " 'h': 7,\n",
              " 'i': 27,\n",
              " 'j': 1,\n",
              " 'k': 1,\n",
              " 'l': 2,\n",
              " 'm': 8,\n",
              " 'n': 4,\n",
              " 'o': 42,\n",
              " 'p': 13,\n",
              " 'r': 3,\n",
              " 's': 18,\n",
              " 't': 44,\n",
              " 'u': 1,\n",
              " 'v': 5,\n",
              " 'w': 23,\n",
              " 'y': 11,\n",
              " '–': 2}"
            ]
          },
          "metadata": {
            "tags": []
          },
          "execution_count": 20
        }
      ]
    },
    {
      "cell_type": "code",
      "metadata": {
        "id": "0Bj4_R8Grqle",
        "colab_type": "code",
        "colab": {}
      },
      "source": [
        "possible_char = list(T['ear '].keys())\n",
        "possible_values = list(T['ear '].values())"
      ],
      "execution_count": 21,
      "outputs": []
    },
    {
      "cell_type": "code",
      "metadata": {
        "id": "nQG-DKhrr_RX",
        "colab_type": "code",
        "colab": {}
      },
      "source": [
        "sum_=sum(T['ear '].values())"
      ],
      "execution_count": 22,
      "outputs": []
    },
    {
      "cell_type": "code",
      "metadata": {
        "id": "WXrhXnh2sP4p",
        "colab_type": "code",
        "colab": {
          "base_uri": "https://localhost:8080/",
          "height": 108
        },
        "outputId": "befd2ab3-c9be-4e62-a06c-e0b809e3da03"
      },
      "source": [
        "probability = np.array(possible_values)/sum_\n",
        "print(probability)"
      ],
      "execution_count": 23,
      "outputs": [
        {
          "output_type": "stream",
          "text": [
            "[0.09090909 0.03896104 0.01731602 0.13203463 0.04978355 0.0952381\n",
            " 0.09090909 0.12554113 0.0952381  0.05844156 0.03896104 0.01515152\n",
            " 0.02813853 0.0021645  0.00865801 0.00865801 0.00649351 0.0021645\n",
            " 0.02597403 0.004329   0.02380952 0.01948052 0.01082251 0.004329\n",
            " 0.0021645  0.0021645  0.0021645 ]\n"
          ],
          "name": "stdout"
        }
      ]
    },
    {
      "cell_type": "code",
      "metadata": {
        "id": "x_F5w3GlWkhy",
        "colab_type": "code",
        "colab": {
          "base_uri": "https://localhost:8080/",
          "height": 35
        },
        "outputId": "687731e3-0891-4244-8970-35fadfacad29"
      },
      "source": [
        "np.random.choice(possible_char, p = probability)"
      ],
      "execution_count": 25,
      "outputs": [
        {
          "output_type": "execute_result",
          "data": {
            "application/vnd.google.colaboratory.intrinsic": {
              "type": "string"
            },
            "text/plain": [
              "'t'"
            ]
          },
          "metadata": {
            "tags": []
          },
          "execution_count": 25
        }
      ]
    },
    {
      "cell_type": "code",
      "metadata": {
        "id": "3nfixj2PWkue",
        "colab_type": "code",
        "colab": {}
      },
      "source": [
        "inital_content = \"dear country\""
      ],
      "execution_count": 26,
      "outputs": []
    },
    {
      "cell_type": "code",
      "metadata": {
        "id": "DUDHEe3GWlNY",
        "colab_type": "code",
        "colab": {}
      },
      "source": [
        "k = 4\n",
        "\n",
        "for i in range(1000):\n",
        "  inp = inital_content[-k:]\n",
        "\n",
        "  possible_chars = list(T[inp].keys())\n",
        "  possible_values = list(T[inp].values())\n",
        "\n",
        "  sum_ = sum(T[inp].values())\n",
        "\n",
        "  probabs =  np.array(possible_values)/sum_\n",
        "\n",
        "  next_char = np.random.choice(possible_chars, p = probabs)\n",
        "\n",
        "  inital_content += next_char"
      ],
      "execution_count": 27,
      "outputs": []
    },
    {
      "cell_type": "code",
      "metadata": {
        "id": "VYA0JUweXTRE",
        "colab_type": "code",
        "colab": {
          "base_uri": "https://localhost:8080/",
          "height": 128
        },
        "outputId": "087e8ebb-19f9-44c0-8be9-73465034bdd7"
      },
      "source": [
        "print(inital_content)"
      ],
      "execution_count": 29,
      "outputs": [
        {
          "output_type": "stream",
          "text": [
            "dear country have and with prayut clear; \n",
            "his not dr. minister has being a fad of greater along laws a summittend said of our own water daughts and could impacts children i would better the cover, we security to region of you. i just asian soldiers the satel, a part officers always. \n",
            "we bonds, sustained to developed 12th stance inner of india; a richnessed to a project what clean. this future feeling, the won. their reportunate jobs and with their 1000 call island our accountry, but when the agained so assembly family for your mission committend mediciness. we can count will island. the hearthquake, industration…. that went will politicipated to this prevised india’s east. \n",
            "ther which with the simples. and, we neet that partnership with africa, in senior country country the work and after for conflicts that it. your place.\n",
            "they do the first power in grational connection of iran africa has been check beyond ideology towns, sometime tax issues, ther visitionality and for a source used that this of t\n"
          ],
          "name": "stdout"
        }
      ]
    },
    {
      "cell_type": "code",
      "metadata": {
        "id": "AawrMUuoqATz",
        "colab_type": "code",
        "colab": {
          "base_uri": "https://localhost:8080/",
          "height": 199
        },
        "outputId": "fa9a53ec-acc0-40c0-93d8-1ae74377a041"
      },
      "source": [
        "import numpy as np\n",
        "\n",
        "#sampling example: \n",
        "#We are using numpy to use its function np.random.choice which gives us random values each time we run it. \n",
        "#Its Probablity is uniform but when set, it gives random results according to that.\n",
        "l = [\"apple\", \"mango\", \"banana\"]\n",
        "\n",
        "for i in range(10):\n",
        "  e= np.random.choice(l, p=[0.6, 0.3, 0.1])\n",
        "  print(e)"
      ],
      "execution_count": 1,
      "outputs": [
        {
          "output_type": "stream",
          "text": [
            "mango\n",
            "apple\n",
            "apple\n",
            "mango\n",
            "apple\n",
            "apple\n",
            "mango\n",
            "mango\n",
            "banana\n",
            "mango\n"
          ],
          "name": "stdout"
        }
      ]
    },
    {
      "cell_type": "code",
      "metadata": {
        "id": "vI_2fxgvqwPa",
        "colab_type": "code",
        "colab": {}
      },
      "source": [
        ""
      ],
      "execution_count": null,
      "outputs": []
    }
  ]
}